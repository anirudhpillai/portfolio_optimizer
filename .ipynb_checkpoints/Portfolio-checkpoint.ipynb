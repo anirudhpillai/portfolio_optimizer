{
 "cells": [
  {
   "cell_type": "code",
   "execution_count": 2,
   "metadata": {
    "collapsed": false
   },
   "outputs": [],
   "source": [
    "import pandas as pd\n",
    "import numpy as np\n",
    "import pandas_datareader.data as web\n",
    "from datetime import datetime\n",
    "import scipy as sp\n",
    "import scipy.optimize as scopt\n",
    "import scipy.stats as spstats\n",
    "import matplotlib.mlab as mlab\n",
    "import matplotlib.pyplot as plt\n",
    "\n",
    "%matplotlib inline\n",
    "\n",
    "# formatting options\n",
    "pd.set_option('display.notebook_repr_html', False)\n",
    "pd.set_option('display.max_columns', 7)\n",
    "pd.set_option('display.max_rows', 10) \n",
    "pd.set_option('display.width', 82) \n",
    "pd.set_option('precision', 7)"
   ]
  },
  {
   "cell_type": "code",
   "execution_count": 3,
   "metadata": {
    "collapsed": true
   },
   "outputs": [],
   "source": [
    "def create_portfolio(tickers, weights=None):\n",
    "    if weights is None:\n",
    "        shares = np.ones(len(tickers))/len(tickers)\n",
    "    \n",
    "    portfolio = pd.DataFrame({'Tickers': tickers,\n",
    "                              'Weights': weights},\n",
    "                             index=tickers)\n",
    "    return portfolio"
   ]
  },
  {
   "cell_type": "code",
   "execution_count": 4,
   "metadata": {
    "collapsed": false
   },
   "outputs": [
    {
     "data": {
      "text/plain": [
       "         Tickers  Weights\n",
       "Stock A  Stock A        1\n",
       "Stock B  Stock B        1"
      ]
     },
     "execution_count": 4,
     "metadata": {},
     "output_type": "execute_result"
    }
   ],
   "source": [
    "portfolio = create_portfolio(['Stock A', 'Stock B'], [1, 1])\n",
    "portfolio"
   ]
  },
  {
   "cell_type": "code",
   "execution_count": 5,
   "metadata": {
    "collapsed": false
   },
   "outputs": [
    {
     "data": {
      "text/plain": [
       "   Stock A  Stock B\n",
       "0     0.10    -0.15\n",
       "1     0.24    -0.20\n",
       "2     0.05    -0.01\n",
       "3    -0.02     0.04\n",
       "4     0.20    -0.15"
      ]
     },
     "execution_count": 5,
     "metadata": {},
     "output_type": "execute_result"
    }
   ],
   "source": [
    "returns = pd.DataFrame(\n",
    "        {'Stock A': [0.1, 0.24, 0.05, -0.02, 0.2],\n",
    "         'Stock B': [-0.15, -0.2, -0.01, 0.04, -0.15]})\n",
    "returns"
   ]
  },
  {
   "cell_type": "code",
   "execution_count": 6,
   "metadata": {
    "collapsed": true
   },
   "outputs": [],
   "source": [
    "def calculate_weighted_portfolio_value(portfolio,\n",
    "                                       returns,\n",
    "                                       name='Value'):\n",
    "    total_weights = portfolio.Weights.sum()\n",
    "    weighted_returns = returns * (portfolio.Weights /\n",
    "                                  total_weights)\n",
    "    return pd.DataFrame({name: weighted_returns.sum(axis=1)})"
   ]
  },
  {
   "cell_type": "code",
   "execution_count": 7,
   "metadata": {
    "collapsed": false
   },
   "outputs": [
    {
     "data": {
      "text/plain": [
       "   Stock A  Stock B  Value\n",
       "0     0.10    -0.15 -0.025\n",
       "1     0.24    -0.20  0.020\n",
       "2     0.05    -0.01  0.020\n",
       "3    -0.02     0.04  0.010\n",
       "4     0.20    -0.15  0.025"
      ]
     },
     "execution_count": 7,
     "metadata": {},
     "output_type": "execute_result"
    }
   ],
   "source": [
    "wr = calculate_weighted_portfolio_value(portfolio,\n",
    "                                        returns,\n",
    "                                        \"Value\")\n",
    "with_value = pd.concat([returns, wr], axis=1)\n",
    "with_value"
   ]
  },
  {
   "cell_type": "code",
   "execution_count": 8,
   "metadata": {
    "collapsed": false
   },
   "outputs": [
    {
     "data": {
      "text/plain": [
       "Stock A    0.1066771\n",
       "Stock B    0.1031019\n",
       "Value      0.0203101\n",
       "dtype: float64"
      ]
     },
     "execution_count": 8,
     "metadata": {},
     "output_type": "execute_result"
    }
   ],
   "source": [
    "with_value.std()"
   ]
  },
  {
   "cell_type": "code",
   "execution_count": 9,
   "metadata": {
    "collapsed": true
   },
   "outputs": [],
   "source": [
    "def plot_portfolio_returns(returns, title=None):\n",
    "    returns.plot(figsize=(12,8))\n",
    "    plt.xlabel('Year')\n",
    "    plt.ylabel('Returns')\n",
    "    if title is not None: plt.title(title)\n",
    "    plt.show()"
   ]
  },
  {
   "cell_type": "code",
   "execution_count": 10,
   "metadata": {
    "collapsed": false
   },
   "outputs": [
    {
     "data": {
      "image/png": "[encoded data removed]",
      "text/plain": [
       "<matplotlib.figure.Figure at 0x7f2399f8e080>"
      ]
     },
     "metadata": {},
     "output_type": "display_data"
    }
   ],
   "source": [
    "plot_portfolio_returns(with_value)"
   ]
  },
  {
   "cell_type": "code",
   "execution_count": 11,
   "metadata": {
    "collapsed": false
   },
   "outputs": [
    {
     "data": {
      "text/plain": [
       "           Stock A    Stock B\n",
       "Stock A  1.0000000 -0.9255716\n",
       "Stock B -0.9255716  1.0000000"
      ]
     },
     "execution_count": 11,
     "metadata": {},
     "output_type": "execute_result"
    }
   ],
   "source": [
    "returns.corr()"
   ]
  },
  {
   "cell_type": "code",
   "execution_count": 12,
   "metadata": {
    "collapsed": true
   },
   "outputs": [],
   "source": [
    "\n",
    "# Gathering historical returns from Yahoo! Finance\n"
   ]
  },
  {
   "cell_type": "code",
   "execution_count": 13,
   "metadata": {
    "collapsed": true
   },
   "outputs": [],
   "source": [
    "def get_historical_closes(ticker, start_date, end_date):\n",
    "    # get data for the tickers (will return panel)\n",
    "    p = web.DataReader(ticker, \"yahoo\", start_date, end_date)\n",
    "    # convert panel to df and only select Adj Close\n",
    "    d = p.to_frame()['Adj Close'].reset_index()\n",
    "    # rename the columns\n",
    "    d.rename(columns={'minor': 'Ticker',\n",
    "                      'Adj Close': 'Close'}, inplace=True)\n",
    "    # pivot each ticker to a column\n",
    "    pivoted = d.pivot(index='Date', columns='Ticker')\n",
    "    # and drop the one level on the columns\n",
    "    pivoted.columns = pivoted.columns.droplevel(0)\n",
    "    return pivoted"
   ]
  },
  {
   "cell_type": "code",
   "execution_count": 14,
   "metadata": {
    "collapsed": true
   },
   "outputs": [],
   "source": [
    "closes = get_historical_closes(['MSFT', \"AAPL\", 'KO'], '2011-01-01', '2015-12-31')"
   ]
  },
  {
   "cell_type": "code",
   "execution_count": 15,
   "metadata": {
    "collapsed": false
   },
   "outputs": [
    {
     "data": {
      "text/plain": [
       "Ticker           AAPL         KO       MSFT\n",
       "Date                                       \n",
       "2011-01-03  43.104243  27.502621  23.887596\n",
       "2011-01-04  43.329202  26.933339  23.981508\n",
       "2011-01-05  43.683640  26.773098  23.904671\n",
       "2011-01-06  43.648325  26.579119  24.604736\n",
       "2011-01-07  43.960913  26.532733  24.416914"
      ]
     },
     "execution_count": 15,
     "metadata": {},
     "output_type": "execute_result"
    }
   ],
   "source": [
    "closes[:5]"
   ]
  },
  {
   "cell_type": "code",
   "execution_count": 16,
   "metadata": {
    "collapsed": true
   },
   "outputs": [],
   "source": [
    "def calc_daily_returns(closes):\n",
    "    return np.log(closes/closes.shift(1))"
   ]
  },
  {
   "cell_type": "code",
   "execution_count": 17,
   "metadata": {
    "collapsed": false
   },
   "outputs": [
    {
     "data": {
      "text/plain": [
       "Ticker           AAPL         KO       MSFT\n",
       "Date                                       \n",
       "2011-01-03        NaN        NaN        NaN\n",
       "2011-01-04  0.0052054 -0.0209164  0.0039237\n",
       "2011-01-05  0.0081468 -0.0059673 -0.0032092\n",
       "2011-01-06 -0.0008088 -0.0072717  0.0288651\n",
       "2011-01-07  0.0071360 -0.0017467 -0.0076629"
      ]
     },
     "execution_count": 17,
     "metadata": {},
     "output_type": "execute_result"
    }
   ],
   "source": [
    "daily_returns = calc_daily_returns(closes)\n",
    "daily_returns[:5]"
   ]
  },
  {
   "cell_type": "code",
   "execution_count": 18,
   "metadata": {
    "collapsed": true
   },
   "outputs": [],
   "source": [
    "def calc_annual_returns(daily_returns):\n",
    "    grouped = np.exp(daily_returns.groupby(\n",
    "        lambda date: date.year).sum())-1\n",
    "    return grouped"
   ]
  },
  {
   "cell_type": "code",
   "execution_count": 19,
   "metadata": {
    "collapsed": false,
    "scrolled": false
   },
   "outputs": [
    {
     "data": {
      "text/plain": [
       "Ticker       AAPL         KO       MSFT\n",
       "2011    0.2288740  0.1038168 -0.0475454\n",
       "2012    0.3256689  0.0652759  0.0579886\n",
       "2013    0.0806948  0.1723302  0.4429798\n",
       "2014    0.4062250  0.0526609  0.2756461\n",
       "2015   -0.0301372  0.0513985  0.2269186"
      ]
     },
     "execution_count": 19,
     "metadata": {},
     "output_type": "execute_result"
    }
   ],
   "source": [
    "annual_returns = calc_annual_returns(daily_returns)\n",
    "annual_returns"
   ]
  },
  {
   "cell_type": "code",
   "execution_count": 20,
   "metadata": {
    "collapsed": true
   },
   "outputs": [],
   "source": [
    "\n",
    "# weighted variance co-variance calculation\n"
   ]
  },
  {
   "cell_type": "code",
   "execution_count": null,
   "metadata": {
    "collapsed": true
   },
   "outputs": [],
   "source": []
  }
 ],
 "metadata": {
  "kernelspec": {
   "display_name": "Python 3",
   "language": "python",
   "name": "python3"
  },
  "language_info": {
   "codemirror_mode": {
    "name": "ipython",
    "version": 3
   },
   "file_extension": ".py",
   "mimetype": "text/x-python",
   "name": "python",
   "nbconvert_exporter": "python",
   "pygments_lexer": "ipython3",
   "version": "3.5.2"
  }
 },
 "nbformat": 4,
 "nbformat_minor": 1
}
